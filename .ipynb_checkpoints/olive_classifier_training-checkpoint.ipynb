{
 "cells": [
  {
   "cell_type": "markdown",
   "metadata": {},
   "source": [
    "# Import des modules"
   ]
  },
  {
   "cell_type": "code",
   "execution_count": 16,
   "metadata": {},
   "outputs": [
    {
     "name": "stdout",
     "output_type": "stream",
     "text": [
      "The nltk version is 0.16.2.\n",
      "The scikit-learn version is 0.22.1.\n"
     ]
    }
   ],
   "source": [
    "from sklearn.svm import LinearSVC\n",
    "from sklearn.preprocessing import StandardScaler\n",
    "from sklearn.model_selection import train_test_split\n",
    "from skimage.feature import hog\n",
    "from scipy.misc import imread\n",
    "from sklearn.externals import joblib\n",
    "import skimage\n",
    "\n",
    "import random as rand\n",
    "import numpy as np \n",
    "import cv2\n",
    "import glob\n",
    "import time\n",
    "\n",
    "import matplotlib.pyplot as plt\n",
    "%matplotlib inline\n",
    "\n",
    "from helpers import convert, show_images\n",
    "from featuresourcer import FeatureSourcer\n",
    "import nltk\n",
    "import sklearn\n",
    "\n",
    "print('The nltk version is {}.'.format(skimage.__version__))\n",
    "print('The scikit-learn version is {}.'.format(sklearn.__version__))"
   ]
  },
  {
   "cell_type": "markdown",
   "metadata": {},
   "source": [
    "# Configuration des parametres de HOG"
   ]
  },
  {
   "cell_type": "code",
   "execution_count": 20,
   "metadata": {},
   "outputs": [
    {
     "name": "stdout",
     "output_type": "stream",
     "text": [
      "Olive images shape:  (129, 118, 3)\n",
      "Olive images shape:  (480, 400, 3)\n"
     ]
    },
    {
     "name": "stderr",
     "output_type": "stream",
     "text": [
      "C:\\Users\\MALIKA\\anaconda3\\lib\\site-packages\\ipykernel_launcher.py:11: DeprecationWarning: `imread` is deprecated!\n",
      "`imread` is deprecated in SciPy 1.0.0, and will be removed in 1.2.0.\n",
      "Use ``imageio.imread`` instead.\n",
      "  # This is added back by InteractiveShellApp.init_path()\n"
     ]
    }
   ],
   "source": [
    "from PIL import Image, ImageOps \n",
    "sourcer_params = {\n",
    "  'color_model': 'yuv',                # hls, hsv, yuv, ycrcb\n",
    "  'bounding_box_size': 64,             #\n",
    "  'number_of_orientations': 11,        # 6 - 12\n",
    "  'pixels_per_cell': 16,               # 8, 16\n",
    "  'cells_per_block': 2,                # 1, 2\n",
    "  'do_transform_sqrt': True\n",
    "}\n",
    "\n",
    "start_frame = imread(\"q.jpg\")\n",
    "print(\"Olive images shape: \", start_frame.shape)\n",
    "im2 =  cv2.resize(start_frame,(400,480))\n",
    "print(\"Olive images shape: \", im2.shape)\n",
    "sourcer = FeatureSourcer(sourcer_params, start_frame)\n",
    "rgb_img, y_img, u_img, v_img = sourcer.visualize()"
   ]
  },
  {
   "cell_type": "markdown",
   "metadata": {},
   "source": [
    "# Lecture des images et ExTraction des features HOG"
   ]
  },
  {
   "cell_type": "code",
   "execution_count": 18,
   "metadata": {},
   "outputs": [
    {
     "name": "stdout",
     "output_type": "stream",
     "text": [
      "Loading images to memory...\n"
     ]
    },
    {
     "name": "stderr",
     "output_type": "stream",
     "text": [
      "C:\\Users\\MALIKA\\anaconda3\\lib\\site-packages\\ipykernel_launcher.py:11: DeprecationWarning: `imread` is deprecated!\n",
      "`imread` is deprecated in SciPy 1.0.0, and will be removed in 1.2.0.\n",
      "Use ``imageio.imread`` instead.\n",
      "  # This is added back by InteractiveShellApp.init_path()\n",
      "C:\\Users\\MALIKA\\anaconda3\\lib\\site-packages\\ipykernel_launcher.py:14: DeprecationWarning: `imread` is deprecated!\n",
      "`imread` is deprecated in SciPy 1.0.0, and will be removed in 1.2.0.\n",
      "Use ``imageio.imread`` instead.\n",
      "  \n"
     ]
    },
    {
     "name": "stdout",
     "output_type": "stream",
     "text": [
      "... Done\n",
      "Time Taken: 2.04\n",
      "Olives images shape:  (159, 600, 400, 3)\n",
      "Non-Olive images shape:  (159, 600, 400, 3)\n",
      "Extracting features... This might take a while...\n",
      "Olives...\n",
      "███████████████████████████████████████████████████████████████████████████████████████████████████████████████████████████████████████████████████████████████\n",
      "Non-Olives...\n",
      "███████████████████████████████████████████████████████████████████████████████████████████████████████████████████████████████████████████████████████████████\n",
      "...Done\n",
      "Time Taken: 1266.45\n",
      "Olive features shape:  (159, 114048)\n",
      "Non-Olive features shape:  (159, 114048)\n",
      "159\n",
      "Scaling features...\n"
     ]
    }
   ],
   "source": [
    "\n",
    "import time\n",
    "import glob\n",
    "print(\"Loading images to memory...\")\n",
    "t_start = time.time()\n",
    "\n",
    "Olive_imgs, nonOlive_imgs = [], []\n",
    "Olive_paths = glob.glob('olive/*.jpg')\n",
    "nonOlive_paths = glob.glob('no_Olive/*.jpg')\n",
    "\n",
    "for path in Olive_paths: \n",
    "    out = cv2.resize(imread(path),(400,600))\n",
    "    Olive_imgs.append(out)\n",
    "for path in nonOlive_paths: \n",
    "    out2 = cv2.resize(imread(path),(400,600))\n",
    "    nonOlive_imgs.append(out2)\n",
    "\n",
    "Olive_imgs, nonOlive_imgs = np.asarray(Olive_imgs), np.asarray(nonOlive_imgs)\n",
    "total_Olive, total_nonOlive = Olive_imgs.shape[0], nonOlive_imgs.shape[0]\n",
    "\n",
    "print(\"... Done\")\n",
    "print(\"Time Taken:\", np.round(time.time() - t_start, 2))\n",
    "print(\"Olives images shape: \", Olive_imgs.shape)\n",
    "print(\"Non-Olive images shape: \", nonOlive_imgs.shape)\n",
    "\n",
    "print(\"Extracting features... This might take a while...\")\n",
    "t_start = time.time()\n",
    "\n",
    "Olive_features, nonOlive_features = [], []\n",
    "\n",
    "print(\"Olives...\")\n",
    "for img in Olive_imgs:\n",
    "  Olive_features.append(sourcer.features(img))\n",
    "  print('█', end = '')\n",
    "\n",
    "print()\n",
    "print(\"Non-Olives...\")\n",
    "for img in nonOlive_imgs:\n",
    "  nonOlive_features.append(sourcer.features(img))\n",
    "  print('█', end = '')\n",
    "                         \n",
    "Olive_features = np.asarray(Olive_features)\n",
    "nonOlive_features = np.asarray(nonOlive_features)\n",
    "\n",
    "print()\n",
    "print(\"...Done\")\n",
    "print(\"Time Taken:\", np.round(time.time() - t_start, 2))\n",
    "print(\"Olive features shape: \", Olive_features.shape)\n",
    "print(\"Non-Olive features shape: \", Olive_features.shape)\n",
    "\n",
    "print(len(Olive_features))\n",
    "print(\"Scaling features...\")\n",
    "t_start = time.time()\n",
    "\n"
   ]
  },
  {
   "cell_type": "markdown",
   "metadata": {},
   "source": [
    "# Training du model"
   ]
  },
  {
   "cell_type": "code",
   "execution_count": 6,
   "metadata": {},
   "outputs": [
    {
     "name": "stdout",
     "output_type": "stream",
     "text": [
      "...Done\n",
      "Time Taken: 1510.06\n",
      " x shape:  (318, 114048)  y shape:  (318,)\n",
      "Training classifier...\n"
     ]
    }
   ],
   "source": [
    "unscaled_x = np.vstack((Olive_features, nonOlive_features)).astype(np.float64)\n",
    "scaler = StandardScaler().fit(unscaled_x)\n",
    "x = scaler.transform(unscaled_x)\n",
    "y = np.hstack((np.ones(total_Olive), np.zeros(total_nonOlive)))\n",
    "\n",
    "print(\"...Done\")\n",
    "print(\"Time Taken:\", np.round(time.time() - t_start, 2))\n",
    "print(\" x shape: \", x.shape, \" y shape: \", y.shape)\n",
    "\n",
    "print(\"Training classifier...\")\n"
   ]
  },
  {
   "cell_type": "code",
   "execution_count": 8,
   "metadata": {},
   "outputs": [
    {
     "name": "stdout",
     "output_type": "stream",
     "text": [
      "<class 'numpy.ndarray'>\n"
     ]
    }
   ],
   "source": [
    "print(type(Olive_features))"
   ]
  },
  {
   "cell_type": "code",
   "execution_count": 9,
   "metadata": {},
   "outputs": [
    {
     "name": "stdout",
     "output_type": "stream",
     "text": [
      "...Done\n",
      "Time Taken: 5.08\n",
      "Accuracy:  0.8281\n"
     ]
    }
   ],
   "source": [
    "t_start = time.time()\n",
    "\n",
    "x_train, x_test, y_train, y_test = train_test_split(x, y, test_size = 0.2,\n",
    "                                                    random_state = rand.randint(1, 100))\n",
    "svc = LinearSVC()\n",
    "svc.fit(x_train, y_train)\n",
    "accuracy = svc.score(x_test, y_test)\n",
    "\n",
    "print(\"...Done\")\n",
    "print(\"Time Taken:\", np.round(time.time() - t_start, 2))\n",
    "print(\"Accuracy: \", np.round(accuracy, 4))"
   ]
  },
  {
   "cell_type": "code",
   "execution_count": 11,
   "metadata": {},
   "outputs": [
    {
     "name": "stdout",
     "output_type": "stream",
     "text": [
      "159\n"
     ]
    }
   ],
   "source": [
    "sourcer = FeatureSourcer(sourcer_params, start_frame)\n",
    "print(total_nonOlive)\n",
    "f1 = sourcer.features(nonOlive_imgs[rand.randint(0, total_nonOlive)])\n",
    "f2 = sourcer.features(Olive_imgs[rand.randint(0, total_Olive)])\n",
    "f3 = sourcer.features(Olive_imgs[rand.randint(0, total_Olive)])\n",
    "f4 = sourcer.features(nonOlive_imgs[rand.randint(0, total_nonOlive)])\n",
    "\n",
    "f = scaler.transform([f1, f2, f3, f4])\n",
    "\n"
   ]
  },
  {
   "cell_type": "markdown",
   "metadata": {},
   "source": [
    "# Sauvegarde du modele entraine"
   ]
  },
  {
   "cell_type": "code",
   "execution_count": 12,
   "metadata": {},
   "outputs": [
    {
     "name": "stdout",
     "output_type": "stream",
     "text": [
      "Saving models...\n",
      "...Done\n"
     ]
    }
   ],
   "source": [
    "print (\"Saving models...\")\n",
    "\n",
    "joblib.dump(svc, 'svc_olive087.pkl')\n",
    "joblib.dump(scaler, 'scaler_olive087.pkl')\n",
    "\n",
    "print(\"...Done\")"
   ]
  },
  {
   "cell_type": "code",
   "execution_count": 13,
   "metadata": {},
   "outputs": [
    {
     "name": "stdout",
     "output_type": "stream",
     "text": [
      "Loading models...\n",
      "...Done\n"
     ]
    }
   ],
   "source": [
    "print (\"Loading models...\")\n",
    "\n",
    "svc = joblib.load('svc_olive087.pkl')\n",
    "scaler = joblib.load('scaler_olive087.pkl')\n",
    "\n",
    "print(\"...Done\")"
   ]
  },
  {
   "cell_type": "code",
   "execution_count": 14,
   "metadata": {},
   "outputs": [
    {
     "name": "stdout",
     "output_type": "stream",
     "text": [
      "[0. 1. 1. 0.]\n"
     ]
    }
   ],
   "source": [
    "sourcer = FeatureSourcer(sourcer_params, start_frame)\n",
    "\n",
    "f1 = sourcer.features(nonOlive_imgs[rand.randint(0, total_nonOlive)])\n",
    "f2 = sourcer.features(Olive_imgs[rand.randint(0, total_Olive)])\n",
    "f3 = sourcer.features(Olive_imgs[rand.randint(0, total_Olive)])\n",
    "f4 = sourcer.features(nonOlive_imgs[rand.randint(0, total_nonOlive)])\n",
    "\n",
    "f = scaler.transform([f1, f2, f3, f4])\n",
    "print(svc.predict(f))"
   ]
  },
  {
   "cell_type": "code",
   "execution_count": 15,
   "metadata": {},
   "outputs": [
    {
     "name": "stdout",
     "output_type": "stream",
     "text": [
      "159\n"
     ]
    }
   ],
   "source": [
    "print(Olive_features.shape[0])"
   ]
  },
  {
   "cell_type": "code",
   "execution_count": null,
   "metadata": {},
   "outputs": [],
   "source": []
  }
 ],
 "metadata": {
  "kernelspec": {
   "display_name": "Python [conda env:root] *",
   "language": "python",
   "name": "conda-root-py"
  },
  "language_info": {
   "codemirror_mode": {
    "name": "ipython",
    "version": 3
   },
   "file_extension": ".py",
   "mimetype": "text/x-python",
   "name": "python",
   "nbconvert_exporter": "python",
   "pygments_lexer": "ipython3",
   "version": "3.7.6"
  },
  "widgets": {
   "state": {},
   "version": "1.1.2"
  }
 },
 "nbformat": 4,
 "nbformat_minor": 2
}
