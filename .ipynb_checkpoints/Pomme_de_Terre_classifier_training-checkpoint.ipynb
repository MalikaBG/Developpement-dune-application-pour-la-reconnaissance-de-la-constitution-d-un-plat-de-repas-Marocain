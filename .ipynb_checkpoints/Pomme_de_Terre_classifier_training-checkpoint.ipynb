{
 "cells": [
  {
   "cell_type": "markdown",
   "metadata": {},
   "source": [
    "# Import des modules"
   ]
  },
  {
   "cell_type": "code",
   "execution_count": 1,
   "metadata": {},
   "outputs": [
    {
     "name": "stderr",
     "output_type": "stream",
     "text": [
      "C:\\Users\\MALIKA\\anaconda3\\lib\\site-packages\\sklearn\\externals\\joblib\\__init__.py:15: FutureWarning: sklearn.externals.joblib is deprecated in 0.21 and will be removed in 0.23. Please import this functionality directly from joblib, which can be installed with: pip install joblib. If this warning is raised when loading pickled models, you may need to re-serialize those models with scikit-learn 0.21+.\n",
      "  warnings.warn(msg, category=FutureWarning)\n"
     ]
    },
    {
     "name": "stdout",
     "output_type": "stream",
     "text": [
      "The nltk version is 0.16.2.\n",
      "The scikit-learn version is 0.22.1.\n"
     ]
    }
   ],
   "source": [
    "from sklearn.svm import LinearSVC\n",
    "from sklearn.preprocessing import StandardScaler\n",
    "from sklearn.model_selection import train_test_split\n",
    "from skimage.feature import hog\n",
    "from scipy.misc import imread\n",
    "from sklearn.externals import joblib\n",
    "import skimage\n",
    "\n",
    "import random as rand\n",
    "import numpy as np \n",
    "import cv2\n",
    "import glob\n",
    "import time\n",
    "\n",
    "import matplotlib.pyplot as plt\n",
    "%matplotlib inline\n",
    "\n",
    "from helpers import convert, show_images\n",
    "from featuresourcer import FeatureSourcer\n",
    "import nltk\n",
    "import sklearn\n",
    "\n",
    "print('The nltk version is {}.'.format(skimage.__version__))\n",
    "print('The scikit-learn version is {}.'.format(sklearn.__version__))"
   ]
  },
  {
   "cell_type": "markdown",
   "metadata": {},
   "source": [
    "# Configuration des parametres de HOG"
   ]
  },
  {
   "cell_type": "code",
   "execution_count": 2,
   "metadata": {},
   "outputs": [
    {
     "name": "stderr",
     "output_type": "stream",
     "text": [
      "C:\\Users\\MALIKA\\anaconda3\\lib\\site-packages\\ipykernel_launcher.py:11: DeprecationWarning: `imread` is deprecated!\n",
      "`imread` is deprecated in SciPy 1.0.0, and will be removed in 1.2.0.\n",
      "Use ``imageio.imread`` instead.\n",
      "  # This is added back by InteractiveShellApp.init_path()\n"
     ]
    },
    {
     "name": "stdout",
     "output_type": "stream",
     "text": [
      "potateos images shape:  (93, 138, 3)\n",
      "potateos images shape:  (480, 400, 3)\n"
     ]
    }
   ],
   "source": [
    "from PIL import Image, ImageOps \n",
    "sourcer_params = {\n",
    "  'color_model': 'yuv',                # hls, hsv, yuv, ycrcb\n",
    "  'bounding_box_size': 64,             #\n",
    "  'number_of_orientations': 11,        # 6 - 12\n",
    "  'pixels_per_cell': 16,               # 8, 16\n",
    "  'cells_per_block': 2,                # 1, 2\n",
    "  'do_transform_sqrt': True\n",
    "}\n",
    "\n",
    "start_frame = imread(\"00015.jpg\")\n",
    "print(\"potateos images shape: \", start_frame.shape)\n",
    "im2 =  cv2.resize(start_frame,(400,480))\n",
    "print(\"potateos images shape: \", im2.shape)\n",
    "sourcer = FeatureSourcer(sourcer_params, start_frame)\n",
    "rgb_img, y_img, u_img, v_img = sourcer.visualize()"
   ]
  },
  {
   "cell_type": "markdown",
   "metadata": {},
   "source": [
    "# Lecture des images et ExTraction des features HOG"
   ]
  },
  {
   "cell_type": "code",
   "execution_count": null,
   "metadata": {},
   "outputs": [
    {
     "name": "stdout",
     "output_type": "stream",
     "text": [
      "Loading images to memory...\n"
     ]
    },
    {
     "name": "stderr",
     "output_type": "stream",
     "text": [
      "C:\\Users\\MALIKA\\anaconda3\\lib\\site-packages\\ipykernel_launcher.py:11: DeprecationWarning: `imread` is deprecated!\n",
      "`imread` is deprecated in SciPy 1.0.0, and will be removed in 1.2.0.\n",
      "Use ``imageio.imread`` instead.\n",
      "  # This is added back by InteractiveShellApp.init_path()\n",
      "C:\\Users\\MALIKA\\anaconda3\\lib\\site-packages\\ipykernel_launcher.py:14: DeprecationWarning: `imread` is deprecated!\n",
      "`imread` is deprecated in SciPy 1.0.0, and will be removed in 1.2.0.\n",
      "Use ``imageio.imread`` instead.\n",
      "  \n"
     ]
    },
    {
     "name": "stdout",
     "output_type": "stream",
     "text": [
      "... Done\n",
      "Time Taken: 1.75\n",
      "potateos images shape:  (160, 600, 400, 3)\n",
      "Non-potateos images shape:  (160, 600, 400, 3)\n",
      "Extracting features... This might take a while...\n",
      "potateos...\n",
      "████████████████████████████████████████████████████████████████████████████████████████████████████████████████████████████████████████████████"
     ]
    }
   ],
   "source": [
    "\n",
    "import time\n",
    "import glob\n",
    "print(\"Loading images to memory...\")\n",
    "t_start = time.time()\n",
    "\n",
    "potateos_imgs, nonpotateos_imgs = [], []\n",
    "potateos_paths = glob.glob('cropedPT/*.jpg')\n",
    "nonpotateos_paths = glob.glob('NotPTC/*.jpg')\n",
    "\n",
    "for path in potateos_paths: \n",
    "    out = cv2.resize(imread(path),(400,600))\n",
    "    potateos_imgs.append(out)\n",
    "for path in nonpotateos_paths: \n",
    "    out2 = cv2.resize(imread(path),(400,600))\n",
    "    nonpotateos_imgs.append(out2)\n",
    "\n",
    "potateos_imgs, nonpotateos_imgs = np.asarray(potateos_imgs), np.asarray(nonpotateos_imgs)\n",
    "total_potateos, total_nonpotateos = potateos_imgs.shape[0], nonpotateos_imgs.shape[0]\n",
    "\n",
    "print(\"... Done\")\n",
    "print(\"Time Taken:\", np.round(time.time() - t_start, 2))\n",
    "print(\"potateos images shape: \", potateos_imgs.shape)\n",
    "print(\"Non-potateos images shape: \", nonpotateos_imgs.shape)\n",
    "\n",
    "print(\"Extracting features... This might take a while...\")\n",
    "t_start = time.time()\n",
    "\n",
    "potateos_features, nonpotateos_features = [], []\n",
    "\n",
    "print(\"potateos...\")\n",
    "for img in potateos_imgs:\n",
    "  potateos_features.append(sourcer.features(img))\n",
    "  print('█', end = '')\n",
    "\n",
    "print()\n",
    "print(\"Non-Vehicles...\")\n",
    "for img in nonpotateos_imgs:\n",
    "  nonpotateos_features.append(sourcer.features(img))\n",
    "  print('█', end = '')\n",
    "                         \n",
    "potateos_features = np.asarray(potateos_features)\n",
    "nonpotateos_features = np.asarray(nonpotateos_features)\n",
    "\n",
    "print()\n",
    "print(\"...Done\")\n",
    "print(\"Time Taken:\", np.round(time.time() - t_start, 2))\n",
    "print(\"potateos features shape: \", potateos_features.shape)\n",
    "print(\"Non-potateos features shape: \", nonpotateos_features.shape)\n",
    "\n",
    "print(len(potateos_features))\n",
    "print(\"Scaling features...\")\n",
    "t_start = time.time()\n",
    "\n"
   ]
  },
  {
   "cell_type": "markdown",
   "metadata": {},
   "source": [
    "# Entrainement du classifieur"
   ]
  },
  {
   "cell_type": "code",
   "execution_count": 74,
   "metadata": {},
   "outputs": [
    {
     "name": "stdout",
     "output_type": "stream",
     "text": [
      "...Done\n",
      "Time Taken: 20.8\n",
      " x shape:  (320, 114048)  y shape:  (320,)\n",
      "Training classifier...\n"
     ]
    }
   ],
   "source": [
    "unscaled_x = np.vstack((potateos_features, nonpotateos_features)).astype(np.float64)\n",
    "scaler = StandardScaler().fit(unscaled_x)\n",
    "x = scaler.transform(unscaled_x)\n",
    "y = np.hstack((np.ones(total_potateos), np.zeros(total_nonpotateos)))\n",
    "\n",
    "print(\"...Done\")\n",
    "print(\"Time Taken:\", np.round(time.time() - t_start, 2))\n",
    "print(\" x shape: \", x.shape, \" y shape: \", y.shape)\n",
    "\n",
    "print(\"Training classifier...\")\n"
   ]
  },
  {
   "cell_type": "code",
   "execution_count": 75,
   "metadata": {},
   "outputs": [
    {
     "name": "stdout",
     "output_type": "stream",
     "text": [
      "<class 'numpy.ndarray'>\n"
     ]
    }
   ],
   "source": [
    "print(type(potateos_features))"
   ]
  },
  {
   "cell_type": "code",
   "execution_count": 76,
   "metadata": {},
   "outputs": [
    {
     "name": "stdout",
     "output_type": "stream",
     "text": [
      "...Done\n",
      "Time Taken: 4.94\n",
      "Accuracy:  0.8438\n"
     ]
    }
   ],
   "source": [
    "t_start = time.time()\n",
    "\n",
    "x_train, x_test, y_train, y_test = train_test_split(x, y, test_size = 0.2,\n",
    "                                                    random_state = rand.randint(1, 100))\n",
    "svc = LinearSVC()\n",
    "svc.fit(x_train, y_train)\n",
    "accuracy = svc.score(x_test, y_test)\n",
    "\n",
    "print(\"...Done\")\n",
    "print(\"Time Taken:\", np.round(time.time() - t_start, 2))\n",
    "print(\"Accuracy: \", np.round(accuracy, 4))"
   ]
  },
  {
   "cell_type": "code",
   "execution_count": 65,
   "metadata": {},
   "outputs": [
    {
     "name": "stdout",
     "output_type": "stream",
     "text": [
      "138\n"
     ]
    }
   ],
   "source": [
    "sourcer = FeatureSourcer(sourcer_params, start_frame)\n",
    "print(total_nonvehicles)\n",
    "f1 = sourcer.features(nonvehicle_imgs[rand.randint(0, total_nonvehicles)])\n",
    "f2 = sourcer.features(vehicle_imgs[rand.randint(0, total_vehicles)])\n",
    "f3 = sourcer.features(vehicle_imgs[rand.randint(0, total_vehicles)])\n",
    "f4 = sourcer.features(nonvehicle_imgs[rand.randint(0, total_nonvehicles)])\n",
    "\n",
    "f = scaler.transform([f1, f2, f3, f4])\n",
    "\n"
   ]
  },
  {
   "cell_type": "markdown",
   "metadata": {},
   "source": [
    "# Sauvegarde du modele entraine"
   ]
  },
  {
   "cell_type": "code",
   "execution_count": 67,
   "metadata": {},
   "outputs": [
    {
     "name": "stdout",
     "output_type": "stream",
     "text": [
      "Saving models...\n",
      "...Done\n"
     ]
    }
   ],
   "source": [
    "print (\"Saving models...\")\n",
    "\n",
    "joblib.dump(svc, 'svc087.pkl')\n",
    "joblib.dump(scaler, 'scaler087.pkl')\n",
    "\n",
    "print(\"...Done\")"
   ]
  },
  {
   "cell_type": "code",
   "execution_count": 69,
   "metadata": {},
   "outputs": [
    {
     "name": "stdout",
     "output_type": "stream",
     "text": [
      "Loading models...\n",
      "...Done\n"
     ]
    }
   ],
   "source": [
    "print (\"Loading models...\")\n",
    "\n",
    "svc = joblib.load('svc087.pkl')\n",
    "scaler = joblib.load('scaler087.pkl')\n",
    "\n",
    "print(\"...Done\")"
   ]
  },
  {
   "cell_type": "markdown",
   "metadata": {},
   "source": []
  },
  {
   "cell_type": "code",
   "execution_count": 70,
   "metadata": {},
   "outputs": [
    {
     "name": "stdout",
     "output_type": "stream",
     "text": [
      "[0. 1. 1. 0.]\n"
     ]
    }
   ],
   "source": [
    "sourcer = FeatureSourcer(sourcer_params, start_frame)\n",
    "\n",
    "f1 = sourcer.features(nonvehicle_imgs[rand.randint(0, total_nonvehicles)])\n",
    "f2 = sourcer.features(vehicle_imgs[rand.randint(0, total_vehicles)])\n",
    "f3 = sourcer.features(vehicle_imgs[rand.randint(0, total_vehicles)])\n",
    "f4 = sourcer.features(nonvehicle_imgs[rand.randint(0, total_nonvehicles)])\n",
    "\n",
    "f = scaler.transform([f1, f2, f3, f4])\n",
    "print(svc.predict(f))"
   ]
  },
  {
   "cell_type": "code",
   "execution_count": 7,
   "metadata": {},
   "outputs": [
    {
     "name": "stdout",
     "output_type": "stream",
     "text": [
      "15\n"
     ]
    }
   ],
   "source": [
    "print(vehicles_features.shape[0])"
   ]
  },
  {
   "cell_type": "code",
   "execution_count": null,
   "metadata": {},
   "outputs": [],
   "source": []
  }
 ],
 "metadata": {
  "kernelspec": {
   "display_name": "Python [conda env:root] *",
   "language": "python",
   "name": "conda-root-py"
  },
  "language_info": {
   "codemirror_mode": {
    "name": "ipython",
    "version": 3
   },
   "file_extension": ".py",
   "mimetype": "text/x-python",
   "name": "python",
   "nbconvert_exporter": "python",
   "pygments_lexer": "ipython3",
   "version": "3.7.6"
  },
  "widgets": {
   "state": {},
   "version": "1.1.2"
  }
 },
 "nbformat": 4,
 "nbformat_minor": 2
}
