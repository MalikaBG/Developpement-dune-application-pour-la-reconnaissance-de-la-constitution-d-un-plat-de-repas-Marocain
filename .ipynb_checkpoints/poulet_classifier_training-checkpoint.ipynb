{
 "cells": [
  {
   "cell_type": "markdown",
   "metadata": {},
   "source": [
    "# Import des modules"
   ]
  },
  {
   "cell_type": "code",
   "execution_count": 2,
   "metadata": {},
   "outputs": [
    {
     "name": "stderr",
     "output_type": "stream",
     "text": [
      "C:\\Users\\MALIKA\\anaconda3\\lib\\site-packages\\sklearn\\externals\\joblib\\__init__.py:15: FutureWarning: sklearn.externals.joblib is deprecated in 0.21 and will be removed in 0.23. Please import this functionality directly from joblib, which can be installed with: pip install joblib. If this warning is raised when loading pickled models, you may need to re-serialize those models with scikit-learn 0.21+.\n",
      "  warnings.warn(msg, category=FutureWarning)\n"
     ]
    },
    {
     "name": "stdout",
     "output_type": "stream",
     "text": [
      "The nltk version is 0.16.2.\n",
      "The scikit-learn version is 0.22.1.\n"
     ]
    }
   ],
   "source": [
    "from sklearn.svm import LinearSVC\n",
    "from sklearn.preprocessing import StandardScaler\n",
    "from sklearn.model_selection import train_test_split\n",
    "from skimage.feature import hog\n",
    "from scipy.misc import imread\n",
    "from sklearn.externals import joblib\n",
    "import skimage\n",
    "\n",
    "import random as rand\n",
    "import numpy as np \n",
    "import cv2\n",
    "import glob\n",
    "import time\n",
    "\n",
    "import matplotlib.pyplot as plt\n",
    "%matplotlib inline\n",
    "\n",
    "from helpers import convert, show_images\n",
    "from featuresourcer import FeatureSourcer\n",
    "import nltk\n",
    "import sklearn\n",
    "\n",
    "print('The nltk version is {}.'.format(skimage.__version__))\n",
    "print('The scikit-learn version is {}.'.format(sklearn.__version__))"
   ]
  },
  {
   "cell_type": "markdown",
   "metadata": {},
   "source": [
    "# Configuration des parametres de HOG"
   ]
  },
  {
   "cell_type": "code",
   "execution_count": 7,
   "metadata": {},
   "outputs": [
    {
     "name": "stdout",
     "output_type": "stream",
     "text": [
      "poulet images shape:  (382, 484, 3)\n",
      "poulet images shape:  (480, 400, 3)\n"
     ]
    },
    {
     "name": "stderr",
     "output_type": "stream",
     "text": [
      "C:\\Users\\MALIKA\\anaconda3\\lib\\site-packages\\ipykernel_launcher.py:11: DeprecationWarning: `imread` is deprecated!\n",
      "`imread` is deprecated in SciPy 1.0.0, and will be removed in 1.2.0.\n",
      "Use ``imageio.imread`` instead.\n",
      "  # This is added back by InteractiveShellApp.init_path()\n"
     ]
    }
   ],
   "source": [
    "from PIL import Image, ImageOps \n",
    "sourcer_params = {\n",
    "  'color_model': 'yuv',                # hls, hsv, yuv, ycrcb\n",
    "  'bounding_box_size': 64,             #\n",
    "  'number_of_orientations': 11,        # 6 - 12\n",
    "  'pixels_per_cell': 16,               # 8, 16\n",
    "  'cells_per_block': 2,                # 1, 2\n",
    "  'do_transform_sqrt': True\n",
    "}\n",
    "\n",
    "start_frame = imread(\"00033.jpg\")\n",
    "print(\"poulet images shape: \", start_frame.shape)\n",
    "im2 =  cv2.resize(start_frame,(400,480))\n",
    "print(\"poulet images shape: \", im2.shape)\n",
    "sourcer = FeatureSourcer(sourcer_params, start_frame)\n",
    "rgb_img, y_img, u_img, v_img = sourcer.visualize()"
   ]
  },
  {
   "cell_type": "markdown",
   "metadata": {},
   "source": [
    "# Lecture des images et ExTraction des features HOG"
   ]
  },
  {
   "cell_type": "code",
   "execution_count": 5,
   "metadata": {},
   "outputs": [
    {
     "name": "stdout",
     "output_type": "stream",
     "text": [
      "Loading images to memory...\n"
     ]
    },
    {
     "name": "stderr",
     "output_type": "stream",
     "text": [
      "C:\\Users\\MALIKA\\anaconda3\\lib\\site-packages\\ipykernel_launcher.py:11: DeprecationWarning: `imread` is deprecated!\n",
      "`imread` is deprecated in SciPy 1.0.0, and will be removed in 1.2.0.\n",
      "Use ``imageio.imread`` instead.\n",
      "  # This is added back by InteractiveShellApp.init_path()\n",
      "C:\\Users\\MALIKA\\anaconda3\\lib\\site-packages\\ipykernel_launcher.py:14: DeprecationWarning: `imread` is deprecated!\n",
      "`imread` is deprecated in SciPy 1.0.0, and will be removed in 1.2.0.\n",
      "Use ``imageio.imread`` instead.\n",
      "  \n"
     ]
    },
    {
     "name": "stdout",
     "output_type": "stream",
     "text": [
      "... Done\n",
      "Time Taken: 1.45\n",
      "poulet images shape:  (97, 600, 400, 3)\n",
      "Non-poulet images shape:  (100, 600, 400, 3)\n",
      "Extracting features... This might take a while...\n",
      "poulet...\n",
      "█████████████████████████████████████████████████████████████████████████████████████████████████\n",
      "Non-poulet...\n",
      "████████████████████████████████████████████████████████████████████████████████████████████████████\n",
      "...Done\n",
      "Time Taken: 817.06\n",
      "potateos features shape:  (97, 114048)\n",
      "Non-potateos features shape:  (100, 114048)\n",
      "97\n",
      "Scaling features...\n"
     ]
    }
   ],
   "source": [
    "\n",
    "import time\n",
    "import glob\n",
    "print(\"Loading images to memory...\")\n",
    "t_start = time.time()\n",
    "\n",
    "poulet_imgs, nonpoulet_imgs = [], []\n",
    "poulet_paths = glob.glob('poulet/*.jpg')\n",
    "nonpoulet_paths = glob.glob('no_poulet/*.jpg')\n",
    "\n",
    "for path in poulet_paths: \n",
    "    out = cv2.resize(imread(path),(400,600))\n",
    "    poulet_imgs.append(out)\n",
    "for path in nonpoulet_paths: \n",
    "    out2 = cv2.resize(imread(path),(400,600))\n",
    "    nonpoulet_imgs.append(out2)\n",
    "\n",
    "poulet_imgs, nonpoulet_imgs = np.asarray(poulet_imgs), np.asarray(nonpoulet_imgs)\n",
    "total_poulet, total_nonpoulet = poulet_imgs.shape[0], nonpoulet_imgs.shape[0]\n",
    "\n",
    "print(\"... Done\")\n",
    "print(\"Time Taken:\", np.round(time.time() - t_start, 2))\n",
    "print(\"poulet images shape: \", poulet_imgs.shape)\n",
    "print(\"Non-poulet images shape: \", nonpoulet_imgs.shape)\n",
    "\n",
    "print(\"Extracting features... This might take a while...\")\n",
    "t_start = time.time()\n",
    "\n",
    "poulet_features, nonpoulet_features = [], []\n",
    "\n",
    "print(\"poulet...\")\n",
    "for img in poulet_imgs:\n",
    "  poulet_features.append(sourcer.features(img))\n",
    "  print('█', end = '')\n",
    "\n",
    "print()\n",
    "print(\"Non-poulet...\")\n",
    "for img in nonpoulet_imgs:\n",
    "  nonpoulet_features.append(sourcer.features(img))\n",
    "  print('█', end = '')\n",
    "                         \n",
    "poulet_features = np.asarray(poulet_features)\n",
    "nonpoulet_features = np.asarray(nonpoulet_features)\n",
    "\n",
    "print()\n",
    "print(\"...Done\")\n",
    "print(\"Time Taken:\", np.round(time.time() - t_start, 2))\n",
    "print(\"potateos features shape: \", poulet_features.shape)\n",
    "print(\"Non-potateos features shape: \", nonpoulet_features.shape)\n",
    "\n",
    "print(len(poulet_features))\n",
    "print(\"Scaling features...\")\n",
    "t_start = time.time()\n",
    "\n"
   ]
  },
  {
   "cell_type": "markdown",
   "metadata": {},
   "source": [
    "# Training du model"
   ]
  },
  {
   "cell_type": "code",
   "execution_count": 4,
   "metadata": {},
   "outputs": [
    {
     "name": "stdout",
     "output_type": "stream",
     "text": [
      "...Done\n",
      "Time Taken: 2043.19\n",
      " x shape:  (197, 114048)  y shape:  (197,)\n",
      "Training classifier...\n"
     ]
    }
   ],
   "source": [
    "unscaled_x = np.vstack((poulet_features, nonpoulet_features)).astype(np.float64)\n",
    "scaler = StandardScaler().fit(unscaled_x)\n",
    "x = scaler.transform(unscaled_x)\n",
    "y = np.hstack((np.ones(total_poulet), np.zeros(total_nonpoulet)))\n",
    "\n",
    "print(\"...Done\")\n",
    "print(\"Time Taken:\", np.round(time.time() - t_start, 2))\n",
    "print(\" x shape: \", x.shape, \" y shape: \", y.shape)\n",
    "\n",
    "print(\"Training classifier...\")\n"
   ]
  },
  {
   "cell_type": "code",
   "execution_count": 75,
   "metadata": {},
   "outputs": [
    {
     "name": "stdout",
     "output_type": "stream",
     "text": [
      "<class 'numpy.ndarray'>\n"
     ]
    }
   ],
   "source": [
    "print(type(poulet_features))"
   ]
  },
  {
   "cell_type": "code",
   "execution_count": 5,
   "metadata": {},
   "outputs": [
    {
     "name": "stdout",
     "output_type": "stream",
     "text": [
      "...Done\n",
      "Time Taken: 2.62\n",
      "Accuracy:  0.95\n"
     ]
    }
   ],
   "source": [
    "t_start = time.time()\n",
    "\n",
    "x_train, x_test, y_train, y_test = train_test_split(x, y, test_size = 0.2,\n",
    "                                                    random_state = rand.randint(1, 100))\n",
    "svc = LinearSVC()\n",
    "svc.fit(x_train, y_train)\n",
    "accuracy = svc.score(x_test, y_test)\n",
    "\n",
    "print(\"...Done\")\n",
    "print(\"Time Taken:\", np.round(time.time() - t_start, 2))\n",
    "print(\"Accuracy: \", np.round(accuracy, 4))"
   ]
  },
  {
   "cell_type": "code",
   "execution_count": 6,
   "metadata": {},
   "outputs": [
    {
     "name": "stdout",
     "output_type": "stream",
     "text": [
      "100\n"
     ]
    }
   ],
   "source": [
    "sourcer = FeatureSourcer(sourcer_params, start_frame)\n",
    "print(total_nonpoulet)\n",
    "f1 = sourcer.features(nonpoulet_imgs[rand.randint(0, total_nonpoulet)])\n",
    "f2 = sourcer.features(poulet_imgs[rand.randint(0, total_poulet)])\n",
    "f3 = sourcer.features(poulet_imgs[rand.randint(0, total_poulet)])\n",
    "f4 = sourcer.features(nonpoulet_imgs[rand.randint(0, total_nonpoulet)])\n",
    "\n",
    "f = scaler.transform([f1, f2, f3, f4])\n",
    "\n"
   ]
  },
  {
   "cell_type": "markdown",
   "metadata": {},
   "source": [
    "# Sauvegarde du modele entraine"
   ]
  },
  {
   "cell_type": "code",
   "execution_count": 7,
   "metadata": {},
   "outputs": [
    {
     "name": "stdout",
     "output_type": "stream",
     "text": [
      "Saving models...\n",
      "...Done\n"
     ]
    }
   ],
   "source": [
    "print (\"Saving models...\")\n",
    "\n",
    "joblib.dump(svc, 'svc_poulet095.pkl')\n",
    "joblib.dump(scaler, 'scaler_poulet095.pkl')\n",
    "\n",
    "print(\"...Done\")"
   ]
  },
  {
   "cell_type": "code",
   "execution_count": 8,
   "metadata": {},
   "outputs": [
    {
     "name": "stdout",
     "output_type": "stream",
     "text": [
      "Loading models...\n",
      "...Done\n"
     ]
    }
   ],
   "source": [
    "print (\"Loading models...\")\n",
    "\n",
    "svc = joblib.load('svc_poulet095.pkl')\n",
    "scaler = joblib.load('scaler_poulet095.pkl')\n",
    "\n",
    "print(\"...Done\")"
   ]
  },
  {
   "cell_type": "code",
   "execution_count": 10,
   "metadata": {},
   "outputs": [
    {
     "name": "stdout",
     "output_type": "stream",
     "text": [
      "[0. 1. 1. 0.]\n"
     ]
    }
   ],
   "source": [
    "sourcer = FeatureSourcer(sourcer_params, start_frame)\n",
    "\n",
    "f1 = sourcer.features(nonpoulet_imgs[rand.randint(0, total_nonpoulet)])\n",
    "f2 = sourcer.features(poulet_imgs[rand.randint(0, total_poulet)])\n",
    "f3 = sourcer.features(poulet_imgs[rand.randint(0, total_poulet)])\n",
    "f4 = sourcer.features(nonpoulet_imgs[rand.randint(0, total_nonpoulet)])\n",
    "\n",
    "f = scaler.transform([f1, f2, f3, f4])\n",
    "print(svc.predict(f))"
   ]
  },
  {
   "cell_type": "code",
   "execution_count": 7,
   "metadata": {},
   "outputs": [
    {
     "name": "stdout",
     "output_type": "stream",
     "text": [
      "15\n"
     ]
    }
   ],
   "source": [
    "print(poulet_features.shape[0])"
   ]
  },
  {
   "cell_type": "code",
   "execution_count": null,
   "metadata": {},
   "outputs": [],
   "source": []
  }
 ],
 "metadata": {
  "kernelspec": {
   "display_name": "Python [conda env:root] *",
   "language": "python",
   "name": "conda-root-py"
  },
  "language_info": {
   "codemirror_mode": {
    "name": "ipython",
    "version": 3
   },
   "file_extension": ".py",
   "mimetype": "text/x-python",
   "name": "python",
   "nbconvert_exporter": "python",
   "pygments_lexer": "ipython3",
   "version": "3.7.6"
  },
  "widgets": {
   "state": {},
   "version": "1.1.2"
  }
 },
 "nbformat": 4,
 "nbformat_minor": 2
}
